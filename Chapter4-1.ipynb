{
 "cells": [
  {
   "cell_type": "markdown",
   "metadata": {},
   "source": [
    "# 4.1 타이타닉의 생존자 가려내기\n",
    "#### 피처 영향력(계수) 그래프 알아보기"
   ]
  },
  {
   "cell_type": "markdown",
   "metadata": {},
   "source": [
    "### 학습 목표\n",
    "- 분류분석의 개념/평가기준\n",
    "- 피치 엔지니어링으로 더 나은 분석\n",
    "- 감성분류"
   ]
  },
  {
   "cell_type": "markdown",
   "metadata": {},
   "source": [
    "## Step1. 탐색: 타이타닉 데이터 살펴보기\n",
    "\n",
    "- pclass : Passenger Class 승객등급\n",
    "- survived : 생존여부\n",
    "- name/sex/age : 이름/성별/나이\n",
    "- sibsp : 동승 형제, 배우자 수\n",
    "- parch : 동승 부모, 자녀 수\n",
    "- ticket : 티켓번호\n",
    "- fare : 지불 요금\n",
    "- cabin : 선실 이름\n",
    "- empbarked : 승선항\n",
    "- body : 사망자 확인번호\n",
    "- home.dest : 고향/목적지"
   ]
  },
  {
   "cell_type": "markdown",
   "metadata": {},
   "source": [
    "### < 타이타닉 데이터셋의 기본 정보 구하기>"
   ]
  },
  {
   "cell_type": "code",
   "execution_count": 1,
   "metadata": {},
   "outputs": [
    {
     "data": {
      "text/html": [
       "<div>\n",
       "<style scoped>\n",
       "    .dataframe tbody tr th:only-of-type {\n",
       "        vertical-align: middle;\n",
       "    }\n",
       "\n",
       "    .dataframe tbody tr th {\n",
       "        vertical-align: top;\n",
       "    }\n",
       "\n",
       "    .dataframe thead th {\n",
       "        text-align: right;\n",
       "    }\n",
       "</style>\n",
       "<table border=\"1\" class=\"dataframe\">\n",
       "  <thead>\n",
       "    <tr style=\"text-align: right;\">\n",
       "      <th></th>\n",
       "      <th>pclass</th>\n",
       "      <th>survived</th>\n",
       "      <th>name</th>\n",
       "      <th>sex</th>\n",
       "      <th>age</th>\n",
       "      <th>sibsp</th>\n",
       "      <th>parch</th>\n",
       "      <th>ticket</th>\n",
       "      <th>fare</th>\n",
       "      <th>cabin</th>\n",
       "      <th>embarked</th>\n",
       "      <th>body</th>\n",
       "      <th>home.dest</th>\n",
       "    </tr>\n",
       "  </thead>\n",
       "  <tbody>\n",
       "    <tr>\n",
       "      <th>0</th>\n",
       "      <td>2</td>\n",
       "      <td>1</td>\n",
       "      <td>Mellinger, Miss. Madeleine Violet</td>\n",
       "      <td>female</td>\n",
       "      <td>13.0</td>\n",
       "      <td>0</td>\n",
       "      <td>1</td>\n",
       "      <td>250644</td>\n",
       "      <td>19.5000</td>\n",
       "      <td>NaN</td>\n",
       "      <td>S</td>\n",
       "      <td>NaN</td>\n",
       "      <td>England / Bennington, VT</td>\n",
       "    </tr>\n",
       "    <tr>\n",
       "      <th>1</th>\n",
       "      <td>2</td>\n",
       "      <td>1</td>\n",
       "      <td>Wells, Miss. Joan</td>\n",
       "      <td>female</td>\n",
       "      <td>4.0</td>\n",
       "      <td>1</td>\n",
       "      <td>1</td>\n",
       "      <td>29103</td>\n",
       "      <td>23.0000</td>\n",
       "      <td>NaN</td>\n",
       "      <td>S</td>\n",
       "      <td>NaN</td>\n",
       "      <td>Cornwall / Akron, OH</td>\n",
       "    </tr>\n",
       "    <tr>\n",
       "      <th>2</th>\n",
       "      <td>2</td>\n",
       "      <td>1</td>\n",
       "      <td>Duran y More, Miss. Florentina</td>\n",
       "      <td>female</td>\n",
       "      <td>30.0</td>\n",
       "      <td>1</td>\n",
       "      <td>0</td>\n",
       "      <td>SC/PARIS 2148</td>\n",
       "      <td>13.8583</td>\n",
       "      <td>NaN</td>\n",
       "      <td>C</td>\n",
       "      <td>NaN</td>\n",
       "      <td>Barcelona, Spain / Havana, Cuba</td>\n",
       "    </tr>\n",
       "    <tr>\n",
       "      <th>3</th>\n",
       "      <td>3</td>\n",
       "      <td>0</td>\n",
       "      <td>Scanlan, Mr. James</td>\n",
       "      <td>male</td>\n",
       "      <td>NaN</td>\n",
       "      <td>0</td>\n",
       "      <td>0</td>\n",
       "      <td>36209</td>\n",
       "      <td>7.7250</td>\n",
       "      <td>NaN</td>\n",
       "      <td>Q</td>\n",
       "      <td>NaN</td>\n",
       "      <td>NaN</td>\n",
       "    </tr>\n",
       "    <tr>\n",
       "      <th>4</th>\n",
       "      <td>3</td>\n",
       "      <td>1</td>\n",
       "      <td>Bradley, Miss. Bridget Delia</td>\n",
       "      <td>female</td>\n",
       "      <td>22.0</td>\n",
       "      <td>0</td>\n",
       "      <td>0</td>\n",
       "      <td>334914</td>\n",
       "      <td>7.7250</td>\n",
       "      <td>NaN</td>\n",
       "      <td>Q</td>\n",
       "      <td>NaN</td>\n",
       "      <td>Kingwilliamstown, Co Cork, Ireland Glens Falls...</td>\n",
       "    </tr>\n",
       "  </tbody>\n",
       "</table>\n",
       "</div>"
      ],
      "text/plain": [
       "   pclass  survived                               name     sex   age  sibsp  \\\n",
       "0       2         1  Mellinger, Miss. Madeleine Violet  female  13.0      0   \n",
       "1       2         1                  Wells, Miss. Joan  female   4.0      1   \n",
       "2       2         1     Duran y More, Miss. Florentina  female  30.0      1   \n",
       "3       3         0                 Scanlan, Mr. James    male   NaN      0   \n",
       "4       3         1       Bradley, Miss. Bridget Delia  female  22.0      0   \n",
       "\n",
       "   parch         ticket     fare cabin embarked  body  \\\n",
       "0      1         250644  19.5000   NaN        S   NaN   \n",
       "1      1          29103  23.0000   NaN        S   NaN   \n",
       "2      0  SC/PARIS 2148  13.8583   NaN        C   NaN   \n",
       "3      0          36209   7.7250   NaN        Q   NaN   \n",
       "4      0         334914   7.7250   NaN        Q   NaN   \n",
       "\n",
       "                                           home.dest  \n",
       "0                           England / Bennington, VT  \n",
       "1                               Cornwall / Akron, OH  \n",
       "2                    Barcelona, Spain / Havana, Cuba  \n",
       "3                                                NaN  \n",
       "4  Kingwilliamstown, Co Cork, Ireland Glens Falls...  "
      ]
     },
     "execution_count": 1,
     "metadata": {},
     "output_type": "execute_result"
    }
   ],
   "source": [
    "%matplotlib inline\n",
    "\n",
    "import pandas as pd\n",
    "import numpy as np\n",
    "import matplotlib.pyplot as plt\n",
    "import seaborn as sns\n",
    "import warnings\n",
    "warnings.filterwarnings(\"ignore\")\n",
    "\n",
    "df_train = pd.read_csv(\"data/titanic_train.csv\")\n",
    "df_test=pd.read_csv(\"data/titanic_test.csv\")\n",
    "df_train.head(5)"
   ]
  },
  {
   "cell_type": "code",
   "execution_count": 2,
   "metadata": {},
   "outputs": [
    {
     "name": "stdout",
     "output_type": "stream",
     "text": [
      "<class 'pandas.core.frame.DataFrame'>\n",
      "RangeIndex: 916 entries, 0 to 915\n",
      "Data columns (total 13 columns):\n",
      " #   Column     Non-Null Count  Dtype  \n",
      "---  ------     --------------  -----  \n",
      " 0   pclass     916 non-null    int64  \n",
      " 1   survived   916 non-null    int64  \n",
      " 2   name       916 non-null    object \n",
      " 3   sex        916 non-null    object \n",
      " 4   age        741 non-null    float64\n",
      " 5   sibsp      916 non-null    int64  \n",
      " 6   parch      916 non-null    int64  \n",
      " 7   ticket     916 non-null    object \n",
      " 8   fare       916 non-null    float64\n",
      " 9   cabin      214 non-null    object \n",
      " 10  embarked   914 non-null    object \n",
      " 11  body       85 non-null     float64\n",
      " 12  home.dest  527 non-null    object \n",
      "dtypes: float64(3), int64(4), object(6)\n",
      "memory usage: 93.2+ KB\n",
      "None\n",
      "==================================================\n",
      "<class 'pandas.core.frame.DataFrame'>\n",
      "RangeIndex: 393 entries, 0 to 392\n",
      "Data columns (total 13 columns):\n",
      " #   Column     Non-Null Count  Dtype  \n",
      "---  ------     --------------  -----  \n",
      " 0   pclass     393 non-null    int64  \n",
      " 1   survived   393 non-null    int64  \n",
      " 2   name       393 non-null    object \n",
      " 3   sex        393 non-null    object \n",
      " 4   age        305 non-null    float64\n",
      " 5   sibsp      393 non-null    int64  \n",
      " 6   parch      393 non-null    int64  \n",
      " 7   ticket     393 non-null    object \n",
      " 8   fare       393 non-null    float64\n",
      " 9   cabin      81 non-null     object \n",
      " 10  embarked   393 non-null    object \n",
      " 11  body       36 non-null     float64\n",
      " 12  home.dest  218 non-null    object \n",
      "dtypes: float64(3), int64(4), object(6)\n",
      "memory usage: 40.0+ KB\n",
      "None\n"
     ]
    }
   ],
   "source": [
    "print(df_train.info())\n",
    "print(\"==================================================\")\n",
    "print(df_test.info())"
   ]
  },
  {
   "cell_type": "markdown",
   "metadata": {},
   "source": [
    "### < 불필요한 피처 제거하기>\n",
    "####  지금 당장 분석에 활용할 수 없는 피처 : name, cabin\n",
    "####  큰 의미를 가지고 있지 않은 피처 : ticket, home.dest, body "
   ]
  },
  {
   "cell_type": "code",
   "execution_count": 3,
   "metadata": {},
   "outputs": [],
   "source": [
    "# 데이터셋에서 name, ticket, body, cabin, home.dest 피처를 제거합니다.\n",
    "df_train = df_train.drop(['name', 'ticket', 'body', 'cabin', 'home.dest'], axis=1)\n",
    "df_test = df_test.drop(['name', 'ticket', 'body', 'cabin', 'home.dest'], axis=1)"
   ]
  },
  {
   "cell_type": "markdown",
   "metadata": {},
   "source": [
    "#### 각 피처가 분류 분석에 미치는 영향\n",
    "#### 생존자와 비생존자 그룹으로 나누어서 피처간 차이를 탐색하여 분석\n",
    "#### survived를 그룹으로 하여 pclass의 그룹별 분포를 출력"
   ]
  },
  {
   "cell_type": "markdown",
   "metadata": {},
   "source": [
    "### < 탐색적 데이터 분석하기>"
   ]
  },
  {
   "cell_type": "code",
   "execution_count": 4,
   "metadata": {},
   "outputs": [
    {
     "name": "stdout",
     "output_type": "stream",
     "text": [
      "0    563\n",
      "1    353\n",
      "Name: survived, dtype: int64\n"
     ]
    },
    {
     "data": {
      "text/plain": [
       "<AxesSubplot:>"
      ]
     },
     "execution_count": 4,
     "metadata": {},
     "output_type": "execute_result"
    },
    {
     "data": {
      "image/png": "[encoded data removed]",
      "text/plain": [
       "<Figure size 432x288 with 1 Axes>"
      ]
     },
     "metadata": {
      "needs_background": "light"
     },
     "output_type": "display_data"
    }
   ],
   "source": [
    "print(df_train['survived'].value_counts())\n",
    "df_train['survived'].value_counts().plot.bar()"
   ]
  },
  {
   "cell_type": "code",
   "execution_count": 5,
   "metadata": {},
   "outputs": [
    {
     "name": "stdout",
     "output_type": "stream",
     "text": [
      "3    498\n",
      "1    230\n",
      "2    188\n",
      "Name: pclass, dtype: int64\n"
     ]
    }
   ],
   "source": [
    "# survived 피처를 기준으로 그룹을 나누어 그룹별 pclass 피처의 분포를 살펴봅니다.\n",
    "print(df_train['pclass'].value_counts())"
   ]
  },
  {
   "cell_type": "code",
   "execution_count": 8,
   "metadata": {},
   "outputs": [
    {
     "data": {
      "image/png": "[encoded data removed]",
      "text/plain": [
       "<Figure size 432x288 with 1 Axes>"
      ]
     },
     "metadata": {
      "needs_background": "light"
     },
     "output_type": "display_data"
    }
   ],
   "source": [
    "ax=sns.countplot(x='pclass', hue='survived', data=df_train)"
   ]
  },
  {
   "cell_type": "markdown",
   "metadata": {},
   "source": [
    "#### age, sibsp 같은 수치형 피처들에 대한 탐색을 진행\n",
    "#### 자동화 함수 valid_featires()를 작성\n",
    "- 두 그룹간 분포를 비교하는 그래프 출력\n",
    "- 두 그룹의 표준편차 출력\n",
    "- 두 그룹 간의 T-test 검정을 실시하여 출력\n",
    "- 두 그룹 각각에 Shapiro-wilk 검정을 실시하여 출력\n",
    " - Shapiro-wilk : 주어진 데이터가 얼마나 정규성을 따르는지, 정규분포에 가까운지를 측정"
   ]
  },
  {
   "cell_type": "markdown",
   "metadata": {},
   "source": [
    "### <변수 탐색작업 자동화하기>"
   ]
  },
  {
   "cell_type": "code",
   "execution_count": 12,
   "metadata": {},
   "outputs": [],
   "source": [
    "from scipy import stats\n",
    "\n",
    "# 두 집단의 피처를 비교해주며 탐색작업을 자동화하는 함수를 정의합니다.\n",
    "def valid_features(df, col_name, distribution_check=True):\n",
    "    # 두 집단 (survived=1, survived=0)의 분포 그래프를 출력\n",
    "    g = sns.FacetGrid(df, col='survived')\n",
    "    g.map(plt.hist, col_name, bins=30)\n",
    "    \n",
    "    # 두 집단 (survivedd=1, survived=0)의 표준 편차를 각각 출력\n",
    "    titanic_survived=df[df['survived']==1]\n",
    "    titanic_survived_static = np.array(titanic_survived[col_name])\n",
    "    print(\"Data std is\", '%.2f' % np.std(titanic_survived_static))\n",
    "    titanic_n_survived=df[df['survived']==0]\n",
    "    titanic_n_survived_static = np.array(titanic_n_survived[col_name])\n",
    "    print(\"Data std is\", '%.2f' % np.std(titanic_n_survived_static))\n",
    "    \n",
    "    # T-test로 두 집단의 평균 차이를 검정합니다.\n",
    "    tTestResult = stats.ttest_ind(titanic_survived[col_name],titanic_n_survived[col_name])\n",
    "    tTestResultDiffVar = stats.ttest_ind(titanic_survived[col_name], titanic_n_survived[col_name], equal_var=False)\n",
    "    print(\"The t-statistic and p-value assuming equal variances is %.3f and %.3f\" % tTestResult)\n",
    "    print(\"The t-statistic and p-value not assuming equal variances is %.3f and %.3f\" % tTestResultDiffVar)\n",
    "    \n",
    "    if distribution_check:\n",
    "        # Shapiro-Wilk 검정 : 분포의 정규성 정도를 검증합니다.\n",
    "        print(\"The w-statistic and p-value in Survived %.3f and %.3f\" % stats.shapiro(titanic_survived[col_name]))\n",
    "        print(\"The w-statistic and p-value in Non-Survived %.3f and %.3f\" % stats.shapiro(titanic_n_survived[col_name]))        "
   ]
  },
  {
   "cell_type": "code",
   "execution_count": 13,
   "metadata": {},
   "outputs": [
    {
     "name": "stdout",
     "output_type": "stream",
     "text": [
      "Data std is 14.22\n",
      "Data std is 13.71\n",
      "The t-statistic and p-value assuming equal variances is -0.546 and 0.585\n",
      "The t-statistic and p-value not assuming equal variances is -0.543 and 0.587\n",
      "The w-statistic and p-value in Survived 0.982 and 0.001\n",
      "The w-statistic and p-value in Non-Survived 0.968 and 0.000\n",
      "Data std is 0.64\n",
      "Data std is 1.34\n",
      "The t-statistic and p-value assuming equal variances is -2.118 and 0.034\n",
      "The t-statistic and p-value not assuming equal variances is -2.446 and 0.015\n"
     ]
    },
    {
     "data": {
      "image/png": "[encoded data removed]",
      "text/plain": [
       "<Figure size 432x216 with 2 Axes>"
      ]
     },
     "metadata": {
      "needs_background": "light"
     },
     "output_type": "display_data"
    },
    {
     "data": {
      "image/png": "[encoded data removed]",
      "text/plain": [
       "<Figure size 432x216 with 2 Axes>"
      ]
     },
     "metadata": {
      "needs_background": "light"
     },
     "output_type": "display_data"
    }
   ],
   "source": [
    "valid_features(df_train[df_train['age']>0], 'age', distribution_check=True)\n",
    "valid_features(df_train, 'sibsp', distribution_check=False)"
   ]
  },
  {
   "cell_type": "code",
   "execution_count": 14,
   "metadata": {},
   "outputs": [
    {
     "name": "stdout",
     "output_type": "stream",
     "text": [
      "Data std is 0.64\n",
      "Data std is 1.34\n",
      "The t-statistic and p-value assuming equal variances is -2.118 and 0.034\n",
      "The t-statistic and p-value not assuming equal variances is -2.446 and 0.015\n",
      "The w-statistic and p-value in Survived 0.656 and 0.000\n",
      "The w-statistic and p-value in Non-Survived 0.492 and 0.000\n"
     ]
    },
    {
     "data": {
      "image/png": "[encoded data removed]",
      "text/plain": [
       "<Figure size 432x216 with 2 Axes>"
      ]
     },
     "metadata": {
      "needs_background": "light"
     },
     "output_type": "display_data"
    }
   ],
   "source": [
    "valid_features(df_train, 'sibsp', distribution_check=True)"
   ]
  },
  {
   "cell_type": "markdown",
   "metadata": {},
   "source": [
    "#### 분석결과\n",
    "- age 피처는 두 그룹 간에 평균 차이가 없기 때문에 영향력이 낮다\n",
    "- sibsp 피처에서는 평균 차이가 어느정도 존재한다 ~> 영향력이 있다"
   ]
  },
  {
   "cell_type": "markdown",
   "metadata": {},
   "source": [
    "### <미니 퀴즈>\n",
    "#### parch,fare, sex, embarked 피처에 대한 생존자/비생존자의 차이 탐색하기"
   ]
  },
  {
   "cell_type": "code",
   "execution_count": 20,
   "metadata": {},
   "outputs": [
    {
     "name": "stdout",
     "output_type": "stream",
     "text": [
      "Data std is 0.74\n",
      "Data std is 0.89\n",
      "The t-statistic and p-value assuming equal variances is 1.865 and 0.063\n",
      "The t-statistic and p-value not assuming equal variances is 1.942 and 0.052\n",
      "Data std is 60.68\n",
      "Data std is 33.65\n",
      "The t-statistic and p-value assuming equal variances is 7.523 and 0.000\n",
      "The t-statistic and p-value not assuming equal variances is 6.657 and 0.000\n"
     ]
    },
    {
     "data": {
      "image/png": "[encoded data removed]",
      "text/plain": [
       "<Figure size 432x216 with 2 Axes>"
      ]
     },
     "metadata": {
      "needs_background": "light"
     },
     "output_type": "display_data"
    },
    {
     "data": {
      "image/png": "[encoded data removed]",
      "text/plain": [
       "<Figure size 432x216 with 2 Axes>"
      ]
     },
     "metadata": {
      "needs_background": "light"
     },
     "output_type": "display_data"
    }
   ],
   "source": [
    "# 수치형 피처 : valid_features로 탐색\n",
    "valid_features(df_train,'parch',distribution_check=False)\n",
    "valid_features(df_train,'fare',distribution_check=False)"
   ]
  },
  {
   "cell_type": "code",
   "execution_count": 25,
   "metadata": {},
   "outputs": [
    {
     "data": {
      "image/png": "[encoded data removed]",
      "text/plain": [
       "<Figure size 432x288 with 1 Axes>"
      ]
     },
     "metadata": {
      "needs_background": "light"
     },
     "output_type": "display_data"
    }
   ],
   "source": [
    "# 탐색적데이터 분석하기(선택형) : sns.countplot으로 분석\n",
    "ax=sns.countplot(x='sex', hue='survived', data=df_train)"
   ]
  },
  {
   "cell_type": "code",
   "execution_count": 26,
   "metadata": {},
   "outputs": [
    {
     "data": {
      "image/png": "[encoded data removed]",
      "text/plain": [
       "<Figure size 432x288 with 1 Axes>"
      ]
     },
     "metadata": {
      "needs_background": "light"
     },
     "output_type": "display_data"
    }
   ],
   "source": [
    "ax=sns.countplot(x='embarked', hue='survived', data=df_train)"
   ]
  },
  {
   "cell_type": "markdown",
   "metadata": {},
   "source": [
    "### 탐색한 피처의 영향력\n",
    "- 영향력上: pclass fare sex\n",
    "- 영향력中: slibsp, parch\n",
    "- 영향력下: age"
   ]
  },
  {
   "cell_type": "markdown",
   "metadata": {},
   "source": [
    "## Step2. 분류 : 생존자 분류 모델 만들기\n",
    "\n",
    "### 1. 로지스텍 회귀모델\n",
    "#### 기존 회귀 분석의 예측값 Y를 0~1 사이의 값으로 제한하여 0.5보다 크면 1, 0.5보다 작으면 0으로 분류하는 방법\n",
    "#### (1) 결측값 처리\n",
    "- 결측이 존재하는 데이터 샂게\n",
    "- 평균값/중앙값/최빈값 등 임의의 수치로 채워넣는 방법\n",
    "\n",
    "#### (2) 원-핫 인코딩으로 범주형 변수를 변환\n",
    " #####  1) train데이터와 test데이터를 합친다.\n",
    " #####  2) 원-핫 인코딩 적용한다.\n",
    " #####  3) train 데이터와 test데이터를 다시 분리한다"
   ]
  },
  {
   "cell_type": "markdown",
   "metadata": {},
   "source": [
    "### <분류 모델을 위해 전처리 하기>"
   ]
  },
  {
   "cell_type": "code",
   "execution_count": 29,
   "metadata": {},
   "outputs": [
    {
     "data": {
      "text/html": [
       "<div>\n",
       "<style scoped>\n",
       "    .dataframe tbody tr th:only-of-type {\n",
       "        vertical-align: middle;\n",
       "    }\n",
       "\n",
       "    .dataframe tbody tr th {\n",
       "        vertical-align: top;\n",
       "    }\n",
       "\n",
       "    .dataframe thead th {\n",
       "        text-align: right;\n",
       "    }\n",
       "</style>\n",
       "<table border=\"1\" class=\"dataframe\">\n",
       "  <thead>\n",
       "    <tr style=\"text-align: right;\">\n",
       "      <th></th>\n",
       "      <th>pclass</th>\n",
       "      <th>survived</th>\n",
       "      <th>age</th>\n",
       "      <th>sibsp</th>\n",
       "      <th>parch</th>\n",
       "      <th>fare</th>\n",
       "      <th>sex_female</th>\n",
       "      <th>sex_male</th>\n",
       "      <th>embarked_C</th>\n",
       "      <th>embarked_Q</th>\n",
       "      <th>embarked_S</th>\n",
       "    </tr>\n",
       "  </thead>\n",
       "  <tbody>\n",
       "    <tr>\n",
       "      <th>0</th>\n",
       "      <td>2</td>\n",
       "      <td>1</td>\n",
       "      <td>13.000000</td>\n",
       "      <td>0</td>\n",
       "      <td>1</td>\n",
       "      <td>19.5000</td>\n",
       "      <td>1</td>\n",
       "      <td>0</td>\n",
       "      <td>0</td>\n",
       "      <td>0</td>\n",
       "      <td>1</td>\n",
       "    </tr>\n",
       "    <tr>\n",
       "      <th>1</th>\n",
       "      <td>2</td>\n",
       "      <td>1</td>\n",
       "      <td>4.000000</td>\n",
       "      <td>1</td>\n",
       "      <td>1</td>\n",
       "      <td>23.0000</td>\n",
       "      <td>1</td>\n",
       "      <td>0</td>\n",
       "      <td>0</td>\n",
       "      <td>0</td>\n",
       "      <td>1</td>\n",
       "    </tr>\n",
       "    <tr>\n",
       "      <th>2</th>\n",
       "      <td>2</td>\n",
       "      <td>1</td>\n",
       "      <td>30.000000</td>\n",
       "      <td>1</td>\n",
       "      <td>0</td>\n",
       "      <td>13.8583</td>\n",
       "      <td>1</td>\n",
       "      <td>0</td>\n",
       "      <td>1</td>\n",
       "      <td>0</td>\n",
       "      <td>0</td>\n",
       "    </tr>\n",
       "    <tr>\n",
       "      <th>3</th>\n",
       "      <td>3</td>\n",
       "      <td>0</td>\n",
       "      <td>30.231444</td>\n",
       "      <td>0</td>\n",
       "      <td>0</td>\n",
       "      <td>7.7250</td>\n",
       "      <td>0</td>\n",
       "      <td>1</td>\n",
       "      <td>0</td>\n",
       "      <td>1</td>\n",
       "      <td>0</td>\n",
       "    </tr>\n",
       "    <tr>\n",
       "      <th>4</th>\n",
       "      <td>3</td>\n",
       "      <td>1</td>\n",
       "      <td>22.000000</td>\n",
       "      <td>0</td>\n",
       "      <td>0</td>\n",
       "      <td>7.7250</td>\n",
       "      <td>1</td>\n",
       "      <td>0</td>\n",
       "      <td>0</td>\n",
       "      <td>1</td>\n",
       "      <td>0</td>\n",
       "    </tr>\n",
       "  </tbody>\n",
       "</table>\n",
       "</div>"
      ],
      "text/plain": [
       "   pclass  survived        age  sibsp  parch     fare  sex_female  sex_male  \\\n",
       "0       2         1  13.000000      0      1  19.5000           1         0   \n",
       "1       2         1   4.000000      1      1  23.0000           1         0   \n",
       "2       2         1  30.000000      1      0  13.8583           1         0   \n",
       "3       3         0  30.231444      0      0   7.7250           0         1   \n",
       "4       3         1  22.000000      0      0   7.7250           1         0   \n",
       "\n",
       "   embarked_C  embarked_Q  embarked_S  \n",
       "0           0           0           1  \n",
       "1           0           0           1  \n",
       "2           1           0           0  \n",
       "3           0           1           0  \n",
       "4           0           1           0  "
      ]
     },
     "execution_count": 29,
     "metadata": {},
     "output_type": "execute_result"
    }
   ],
   "source": [
    "#age의 결측값을 평균값으로 대체\n",
    "replace_mean=df_train[df_train['age']>0]['age'].mean()\n",
    "df_train['age']=df_train['age'].fillna(replace_mean)\n",
    "df_test['age']=df_test['age'].fillna(replace_mean)\n",
    "\n",
    "#embark : 2개의 결측값을 최빈값으로 대체\n",
    "embarked_mode=df_train['embarked'].value_counts().index[0]\n",
    "df_train['embarked']=df_train['embarked'].fillna(embarked_mode)\n",
    "df_test['embarked']=df_test['embarked'].fillna(embarked_mode)\n",
    "\n",
    "# 원-핫 인코딩을 위한 통합 데이터 프레임을 생성\n",
    "whole_df=df_train.append(df_test)\n",
    "train_idx_num=len(df_train)\n",
    "\n",
    "# pandas 패키지를 이용한 원-핫 인코딩을 수행\n",
    "whole_df_encoded=pd.get_dummies(whole_df)\n",
    "df_train=whole_df_encoded[:train_idx_num]\n",
    "df_test=whole_df_encoded[train_idx_num:]\n",
    "df_train.head()"
   ]
  },
  {
   "cell_type": "markdown",
   "metadata": {},
   "source": [
    "### 분류 모델링 : 로지스텍 회귀모델\n",
    "#### sklearn 모듈의 LogisticRegression 클래스로 모델을 학습"
   ]
  },
  {
   "cell_type": "code",
   "execution_count": 36,
   "metadata": {},
   "outputs": [],
   "source": [
    "# 데이터를 학습 데이터셋, 테스트 데이터셋으로 분리합니다.\n",
    "x_train, y_train = df_train.loc[:, df_train.columns != 'survived'].values, df_train['survived'].values\n",
    "x_test, y_test = df_test.loc[:, df_test.columns != 'survived'].values, df_test['survived'].values"
   ]
  },
  {
   "cell_type": "code",
   "execution_count": 42,
   "metadata": {},
   "outputs": [],
   "source": [
    "import warnings\n",
    "warnings.filterwarnings(\"ignore\")\n",
    "\n",
    "# 로지스틱 회귀 모델을 학습합니다.\n",
    "lr = LogisticRegression(random_state=0)\n",
    "lr.fit(x_train, y_train)\n",
    "\n",
    "# 학습한 모델의 테스트 데이터셋에 대한 예측 결과를 반환합니다.\n",
    "y_pred = lr.predict(x_test)\n",
    "y_pred_probability = lr.predict_proba(x_test)[:,1]"
   ]
  },
  {
   "cell_type": "markdown",
   "metadata": {},
   "source": [
    "#### - 일반적인 모델 평가 기준 : Confusion Matrix\n",
    "- Predicted class : 모델이 예측하여 분류한 값\n",
    "- Actual Class : 실제 데이터 값\n",
    "\n",
    "- True Positives : 1인 값을 1이라 하는 경우\n",
    "- False Negatives : 1인 값을 0이라 하는 경우\n",
    "- False Positives : 0인 값을 1이라 하는 경우\n",
    "- True Negatives : 0인 값을 0이라 하는 경우\n",
    "\n",
    "##### - 분류의 평가 지표\n",
    "- 정확도\n",
    "- 정밀도\n",
    "- 재현도\n",
    "- 특이도\n",
    "\n",
    "##### - 이 지표들을 활용한 평가 지표\n",
    "- F1-score\n",
    "- ROC Curve\n",
    "- AUC (Area Under Curve) 성능의 지표 (1에 가까울수록 좋은 모델)"
   ]
  },
  {
   "cell_type": "markdown",
   "metadata": {},
   "source": [
    "### < 분류 모델 평가하기 >"
   ]
  },
  {
   "cell_type": "code",
   "execution_count": 46,
   "metadata": {},
   "outputs": [
    {
     "name": "stdout",
     "output_type": "stream",
     "text": [
      "Accuracy : 0.80\n",
      "Precision : 0.756\n",
      "Recall : 0.673\n",
      "F1-Score : 0.712\n"
     ]
    }
   ],
   "source": [
    "# 테스트 데이터셋에 대한 정확도, 정밀도, 특이도, f1 평가 지표를 각각 출력\n",
    "print(\"Accuracy : %.2f\" % accuracy_score(y_test, y_pred))\n",
    "print(\"Precision : %.3f\" % precision_score(y_test, y_pred))\n",
    "print(\"Recall : %.3f\" % recall_score(y_test, y_pred))\n",
    "print(\"F1-Score : %.3f\" % f1_score(y_test, y_pred))"
   ]
  },
  {
   "cell_type": "code",
   "execution_count": 47,
   "metadata": {},
   "outputs": [
    {
     "name": "stdout",
     "output_type": "stream",
     "text": [
      "[[214  32]\n",
      " [ 48  99]]\n"
     ]
    }
   ],
   "source": [
    "from sklearn.metrics import confusion_matrix\n",
    "# Confusion Matrix 출력\n",
    "confmat= confusion_matrix(y_true=y_test, y_pred=y_pred)\n",
    "print(confmat)"
   ]
  },
  {
   "cell_type": "code",
   "execution_count": 51,
   "metadata": {},
   "outputs": [
    {
     "name": "stdout",
     "output_type": "stream",
     "text": [
      "AUC : 0.838\n"
     ]
    },
    {
     "data": {
      "text/plain": [
       "<matplotlib.legend.Legend at 0x22a41ce1788>"
      ]
     },
     "execution_count": 51,
     "metadata": {},
     "output_type": "execute_result"
    },
    {
     "data": {
      "image/png": "[encoded data removed]",
      "text/plain": [
       "<Figure size 360x360 with 1 Axes>"
      ]
     },
     "metadata": {
      "needs_background": "light"
     },
     "output_type": "display_data"
    }
   ],
   "source": [
    "from sklearn.metrics import roc_curve, roc_auc_score\n",
    "\n",
    "# AUC를 계산하여 출력\n",
    "false_positive_rate, true_positive_rate, thresholds = roc_curve(y_test, y_pred_probability)\n",
    "roc_auc=roc_auc_score(y_test, y_pred_probability)\n",
    "print(\"AUC : %.3f\" %roc_auc)\n",
    "\n",
    "#ROC curve 그래프로 출력합니다.\n",
    "plt.rcParams['figure.figsize']=[5,5]\n",
    "plt.plot(false_positive_rate, true_positive_rate, label='ROC curve (area = %0.3f)' %roc_auc, color='red', linewidth=4.0)\n",
    "plt.plot([0,1],[0,1],'k--')\n",
    "plt.ylim([0.0,1.0])\n",
    "plt.xlim([0.0,1.0])\n",
    "plt.xlabel('False Positive Rate')\n",
    "plt.ylabel('True Positive Rate')\n",
    "plt.title('ROC curve of Logistic regression')\n",
    "plt.legend(loc=\"lower right\")"
   ]
  },
  {
   "cell_type": "markdown",
   "metadata": {},
   "source": [
    "#### - 의사결정나무 모델\n",
    "#### : 피처 단위로 조건을 분기하여 정답의 집합을 좁혀나가는 방법\n",
    "\n",
    "### < 의사결정 나무 >"
   ]
  },
  {
   "cell_type": "code",
   "execution_count": 60,
   "metadata": {},
   "outputs": [
    {
     "name": "stdout",
     "output_type": "stream",
     "text": [
      "Accuracy : 0.76\n",
      "Precision : 0.688\n",
      "Recall : 0.646\n",
      "F1-Score : 0.667\n"
     ]
    }
   ],
   "source": [
    "from sklearn.tree import DecisionTreeClassifier\n",
    "\n",
    "# 의사결정나무를 학습하고, 학습한 모델로 테스트 데이터셋에 대한 예측값을 반환\n",
    "dtc=DecisionTreeClassifier()\n",
    "dtc.fit(x_train, y_train)\n",
    "y_pred=dtc.predict(x_test)\n",
    "y_pred_probablity=dtc.predict_proba(x_test)[:,1]\n",
    "\n",
    "# 학습한 모델의 성능을 계산하여 출력\n",
    "print(\"Accuracy : %.2f\" % accuracy_score(y_test, y_pred))\n",
    "print(\"Precision : %.3f\" % precision_score(y_test, y_pred))\n",
    "print(\"Recall : %.3f\" % recall_score(y_test, y_pred))\n",
    "print(\"F1-Score : %.3f\" % f1_score(y_test, y_pred))"
   ]
  },
  {
   "cell_type": "code",
   "execution_count": 61,
   "metadata": {},
   "outputs": [
    {
     "name": "stdout",
     "output_type": "stream",
     "text": [
      "AUC : 0.750\n"
     ]
    }
   ],
   "source": [
    "# 학습한 모델의 AUC를 계산하여 출력합니다\n",
    "false_positive_rate, true_positive_rate, thresholds = roc_curve(y_test, y_pred_probability)\n",
    "roc_auc = roc_auc_score(y_test, y_pred_probability)\n",
    "print(\"AUC : %.3f\" %roc_auc)"
   ]
  },
  {
   "cell_type": "code",
   "execution_count": 62,
   "metadata": {},
   "outputs": [
    {
     "data": {
      "text/plain": [
       "<matplotlib.legend.Legend at 0x22a41727ec8>"
      ]
     },
     "execution_count": 62,
     "metadata": {},
     "output_type": "execute_result"
    },
    {
     "data": {
      "image/png": "[encoded data removed]",
      "text/plain": [
       "<Figure size 360x288 with 1 Axes>"
      ]
     },
     "metadata": {
      "needs_background": "light"
     },
     "output_type": "display_data"
    }
   ],
   "source": [
    "# ROC curve를 그래프로 출력합니다.\n",
    "plt.rcParams['figure.figsize'] = [5, 4]\n",
    "plt.plot(false_positive_rate, true_positive_rate, label='ROC curve (area = %0.3f)' % roc_auc, \n",
    "         color='red', linewidth=4.0)\n",
    "plt.plot([0, 1], [0, 1], 'k--')\n",
    "plt.xlim([0.0, 1.0])\n",
    "plt.ylim([0.0, 1.0])\n",
    "plt.xlabel('False Positive Rate')\n",
    "plt.ylabel('True Positive Rate')\n",
    "plt.title('ROC curve of Logistic regression')\n",
    "plt.legend(loc=\"lower right\")"
   ]
  },
  {
   "cell_type": "markdown",
   "metadata": {},
   "source": [
    "## Step3. 모델개선 : 피처 엔지니어링 알고리즘\n",
    "#### - 피처 엔지니어링 : 모델에 사용할 피처를 가공하는 분석작업\n",
    "### < 분류 모델을 위해 전처리하기 >"
   ]
  },
  {
   "cell_type": "code",
   "execution_count": 174,
   "metadata": {},
   "outputs": [],
   "source": [
    "df_train = pd.read_csv(\"data/titanic_train.csv\")\n",
    "df_test = pd.read_csv(\"data/titanic_test.csv\")\n",
    "df_train=df_train.drop(['ticket', 'body', 'home.dest'],axis=1)\n",
    "df_test=df_test.drop(['ticket', 'body', 'home.dest'],axis=1)"
   ]
  },
  {
   "cell_type": "code",
   "execution_count": 176,
   "metadata": {},
   "outputs": [],
   "source": [
    "replace_mean=df_train[df_train['age']>0]['age'].mean()\n",
    "df_train['age']=df_train['age'].fillna(replace_mean)\n",
    "df_test['age']=df_test['age'].fillna(replace_mean)\n",
    "\n",
    "#embark : 2개의 결측값을 최빈값으로 대체합니다.\n",
    "embarked_mode=df_train['embarked'].value_counts().index[0]\n",
    "df_train['embarked']=df_train['embarked'].fillna(embarked_mode)\n",
    "df_test['embarked']=df_test['embarked'].fillna(embarked_mode)\n",
    "\n",
    "# 원 핫 코딩을 위한 통합데이터프레임(whole_df)를 생성\n",
    "whole_df=df_train.append(df_test)\n",
    "train_idx_num = len(df_train)"
   ]
  },
  {
   "cell_type": "markdown",
   "metadata": {},
   "source": [
    "### < cabin 피처 활용하기 >"
   ]
  },
  {
   "cell_type": "code",
   "execution_count": 177,
   "metadata": {},
   "outputs": [
    {
     "name": "stdout",
     "output_type": "stream",
     "text": [
      "C23 C25 C27        6\n",
      "G6                 5\n",
      "B57 B59 B63 B66    5\n",
      "C78                4\n",
      "F2                 4\n",
      "B96 B98            4\n",
      "D                  4\n",
      "F4                 4\n",
      "F33                4\n",
      "C22 C26            4\n",
      "Name: cabin, dtype: int64\n"
     ]
    }
   ],
   "source": [
    "print(whole_df['cabin'].value_counts()[:10])"
   ]
  },
  {
   "cell_type": "markdown",
   "metadata": {},
   "source": [
    "- 결측 데이터는 'X'로 대체\n",
    "- cabin피처에서 첫번쨰 알파벳 추출해서 선실을 파악\n",
    "- 데이터의 수가 적은 G,T 선실(cabin) 모두 'X'로 대체"
   ]
  },
  {
   "cell_type": "code",
   "execution_count": 178,
   "metadata": {},
   "outputs": [],
   "source": [
    "# 결측 데이터의 경우 'X'로 대체합니다.\n",
    "whole_df['cabin']=whole_df['cabin'].fillna('X')\n",
    "\n",
    "# cabin피처에서 첫번쨰 알파벳 추출해서 선실을 파악합니다.\n",
    "whole_df['cabin']=whole_df['cabin'].apply(lambda x: x[0])"
   ]
  },
  {
   "cell_type": "code",
   "execution_count": 179,
   "metadata": {},
   "outputs": [
    {
     "data": {
      "image/png": "[encoded data removed]",
      "text/plain": [
       "<Figure size 360x288 with 1 Axes>"
      ]
     },
     "metadata": {
      "needs_background": "light"
     },
     "output_type": "display_data"
    }
   ],
   "source": [
    "# 데이터의 수가 적은 G,T 선실(cabin) 모두 'X'로 대체합니다.\n",
    "whole_df['cabin']=whole_df['cabin'].replace({\"G\":\"X\", \"T\":\"X\"})\n",
    "\n",
    "ax=sns.countplot(x='cabin',hue='survived', data=whole_df)\n",
    "plt.show()"
   ]
  },
  {
   "cell_type": "markdown",
   "metadata": {},
   "source": [
    "### < name피처 활용하기 >\n",
    " - 당시 시대에는 사회적 계급이 존재하였기 때문에 호칭을 추출"
   ]
  },
  {
   "cell_type": "code",
   "execution_count": 180,
   "metadata": {},
   "outputs": [
    {
     "name": "stdout",
     "output_type": "stream",
     "text": [
      "[' Miss', ' Mr', ' Master', ' Mrs', ' Dr', ' Mlle', ' Col', ' Rev', ' Ms', ' Mme', ' Sir', ' the Countess', ' Dona', ' Jonkheer', ' Lady', ' Major', ' Don', ' Capt']\n"
     ]
    }
   ],
   "source": [
    "# 이름에서 호칭을 추출\n",
    "name_grade = whole_df['name'].apply(lambda x : x.split(\",\",1)[1].split(\".\")[0])\n",
    "name_grade=name_grade.unique().tolist()\n",
    "print(name_grade)"
   ]
  },
  {
   "cell_type": "code",
   "execution_count": 181,
   "metadata": {},
   "outputs": [],
   "source": [
    "# 호칭에 따라 사회적 지위(1910년대)를 정의\n",
    "grade_dict = {'A': ['Rev', 'Col', 'Major', 'Dr', 'Capt', 'Sir'], # 명예직을 나타냅니다.\n",
    "              'B': ['Ms', 'Mme', 'Mrs', 'Dona'], # 여성을 나타냅니다.\n",
    "              'C': ['Jonkheer', 'the Countess'], # 귀족이나 작위를 나타냅니다.\n",
    "              'D': ['Mr', 'Don'], # 남성을 나타냅니다.\n",
    "              'E': ['Master'], # 젊은남성을 나타냅니다.\n",
    "              'F': ['Miss', 'Mlle', 'Lady']} # 젊은 여성을 나타냅니다.\n",
    "\n",
    "# 정의한 호칭의 기준에 따라 A~F 문자로 name 피처를 다시 정의\n",
    "def give_grade(x):\n",
    "    grade = x.split(\", \",1)[1].split(\".\")[0]\n",
    "    for key, value in grade_dict.items():\n",
    "        for title in value:\n",
    "            if grade == title:\n",
    "                return key\n",
    "    return 'G'\n"
   ]
  },
  {
   "cell_type": "code",
   "execution_count": 183,
   "metadata": {},
   "outputs": [
    {
     "name": "stdout",
     "output_type": "stream",
     "text": [
      "D    758\n",
      "F    263\n",
      "B    201\n",
      "E     61\n",
      "A     24\n",
      "C      2\n",
      "Name: name, dtype: int64\n"
     ]
    }
   ],
   "source": [
    "# 위의 함수를 적용하여 name 피처를 새롭게 정의\n",
    "whole_df['name']=whole_df['name'].apply(lambda x: give_grade(x))\n",
    "print(whole_df['name'].value_counts())\n"
   ]
  },
  {
   "cell_type": "code",
   "execution_count": 184,
   "metadata": {},
   "outputs": [
    {
     "data": {
      "image/png": "[encoded data removed]",
      "text/plain": [
       "<Figure size 360x288 with 1 Axes>"
      ]
     },
     "metadata": {
      "needs_background": "light"
     },
     "output_type": "display_data"
    }
   ],
   "source": [
    "# 미니퀴즈 4-2 name피처에 대한 생존자/비생존자 그룹간의 차이\n",
    "ax=sns.countplot(x='name',hue='survived', data=whole_df)\n",
    "plt.show()"
   ]
  },
  {
   "cell_type": "markdown",
   "metadata": {},
   "source": [
    "- 마지막 전처리 단계 : 모든 범주형 피처들에 원-핫 인코딩을 적용\n",
    "### < 원-핫 인코딩>"
   ]
  },
  {
   "cell_type": "code",
   "execution_count": 185,
   "metadata": {
    "scrolled": true
   },
   "outputs": [
    {
     "data": {
      "text/html": [
       "<div>\n",
       "<style scoped>\n",
       "    .dataframe tbody tr th:only-of-type {\n",
       "        vertical-align: middle;\n",
       "    }\n",
       "\n",
       "    .dataframe tbody tr th {\n",
       "        vertical-align: top;\n",
       "    }\n",
       "\n",
       "    .dataframe thead th {\n",
       "        text-align: right;\n",
       "    }\n",
       "</style>\n",
       "<table border=\"1\" class=\"dataframe\">\n",
       "  <thead>\n",
       "    <tr style=\"text-align: right;\">\n",
       "      <th></th>\n",
       "      <th>pclass</th>\n",
       "      <th>survived</th>\n",
       "      <th>age</th>\n",
       "      <th>sibsp</th>\n",
       "      <th>parch</th>\n",
       "      <th>fare</th>\n",
       "      <th>name_A</th>\n",
       "      <th>name_B</th>\n",
       "      <th>name_C</th>\n",
       "      <th>name_D</th>\n",
       "      <th>...</th>\n",
       "      <th>cabin_A</th>\n",
       "      <th>cabin_B</th>\n",
       "      <th>cabin_C</th>\n",
       "      <th>cabin_D</th>\n",
       "      <th>cabin_E</th>\n",
       "      <th>cabin_F</th>\n",
       "      <th>cabin_X</th>\n",
       "      <th>embarked_C</th>\n",
       "      <th>embarked_Q</th>\n",
       "      <th>embarked_S</th>\n",
       "    </tr>\n",
       "  </thead>\n",
       "  <tbody>\n",
       "    <tr>\n",
       "      <th>0</th>\n",
       "      <td>2</td>\n",
       "      <td>1</td>\n",
       "      <td>13.000000</td>\n",
       "      <td>0</td>\n",
       "      <td>1</td>\n",
       "      <td>19.5000</td>\n",
       "      <td>0</td>\n",
       "      <td>0</td>\n",
       "      <td>0</td>\n",
       "      <td>0</td>\n",
       "      <td>...</td>\n",
       "      <td>0</td>\n",
       "      <td>0</td>\n",
       "      <td>0</td>\n",
       "      <td>0</td>\n",
       "      <td>0</td>\n",
       "      <td>0</td>\n",
       "      <td>1</td>\n",
       "      <td>0</td>\n",
       "      <td>0</td>\n",
       "      <td>1</td>\n",
       "    </tr>\n",
       "    <tr>\n",
       "      <th>1</th>\n",
       "      <td>2</td>\n",
       "      <td>1</td>\n",
       "      <td>4.000000</td>\n",
       "      <td>1</td>\n",
       "      <td>1</td>\n",
       "      <td>23.0000</td>\n",
       "      <td>0</td>\n",
       "      <td>0</td>\n",
       "      <td>0</td>\n",
       "      <td>0</td>\n",
       "      <td>...</td>\n",
       "      <td>0</td>\n",
       "      <td>0</td>\n",
       "      <td>0</td>\n",
       "      <td>0</td>\n",
       "      <td>0</td>\n",
       "      <td>0</td>\n",
       "      <td>1</td>\n",
       "      <td>0</td>\n",
       "      <td>0</td>\n",
       "      <td>1</td>\n",
       "    </tr>\n",
       "    <tr>\n",
       "      <th>2</th>\n",
       "      <td>2</td>\n",
       "      <td>1</td>\n",
       "      <td>30.000000</td>\n",
       "      <td>1</td>\n",
       "      <td>0</td>\n",
       "      <td>13.8583</td>\n",
       "      <td>0</td>\n",
       "      <td>0</td>\n",
       "      <td>0</td>\n",
       "      <td>0</td>\n",
       "      <td>...</td>\n",
       "      <td>0</td>\n",
       "      <td>0</td>\n",
       "      <td>0</td>\n",
       "      <td>0</td>\n",
       "      <td>0</td>\n",
       "      <td>0</td>\n",
       "      <td>1</td>\n",
       "      <td>1</td>\n",
       "      <td>0</td>\n",
       "      <td>0</td>\n",
       "    </tr>\n",
       "    <tr>\n",
       "      <th>3</th>\n",
       "      <td>3</td>\n",
       "      <td>0</td>\n",
       "      <td>30.231444</td>\n",
       "      <td>0</td>\n",
       "      <td>0</td>\n",
       "      <td>7.7250</td>\n",
       "      <td>0</td>\n",
       "      <td>0</td>\n",
       "      <td>0</td>\n",
       "      <td>1</td>\n",
       "      <td>...</td>\n",
       "      <td>0</td>\n",
       "      <td>0</td>\n",
       "      <td>0</td>\n",
       "      <td>0</td>\n",
       "      <td>0</td>\n",
       "      <td>0</td>\n",
       "      <td>1</td>\n",
       "      <td>0</td>\n",
       "      <td>1</td>\n",
       "      <td>0</td>\n",
       "    </tr>\n",
       "    <tr>\n",
       "      <th>4</th>\n",
       "      <td>3</td>\n",
       "      <td>1</td>\n",
       "      <td>22.000000</td>\n",
       "      <td>0</td>\n",
       "      <td>0</td>\n",
       "      <td>7.7250</td>\n",
       "      <td>0</td>\n",
       "      <td>0</td>\n",
       "      <td>0</td>\n",
       "      <td>0</td>\n",
       "      <td>...</td>\n",
       "      <td>0</td>\n",
       "      <td>0</td>\n",
       "      <td>0</td>\n",
       "      <td>0</td>\n",
       "      <td>0</td>\n",
       "      <td>0</td>\n",
       "      <td>1</td>\n",
       "      <td>0</td>\n",
       "      <td>1</td>\n",
       "      <td>0</td>\n",
       "    </tr>\n",
       "  </tbody>\n",
       "</table>\n",
       "<p>5 rows × 24 columns</p>\n",
       "</div>"
      ],
      "text/plain": [
       "   pclass  survived        age  sibsp  parch     fare  name_A  name_B  name_C  \\\n",
       "0       2         1  13.000000      0      1  19.5000       0       0       0   \n",
       "1       2         1   4.000000      1      1  23.0000       0       0       0   \n",
       "2       2         1  30.000000      1      0  13.8583       0       0       0   \n",
       "3       3         0  30.231444      0      0   7.7250       0       0       0   \n",
       "4       3         1  22.000000      0      0   7.7250       0       0       0   \n",
       "\n",
       "   name_D  ...  cabin_A  cabin_B  cabin_C  cabin_D  cabin_E  cabin_F  cabin_X  \\\n",
       "0       0  ...        0        0        0        0        0        0        1   \n",
       "1       0  ...        0        0        0        0        0        0        1   \n",
       "2       0  ...        0        0        0        0        0        0        1   \n",
       "3       1  ...        0        0        0        0        0        0        1   \n",
       "4       0  ...        0        0        0        0        0        0        1   \n",
       "\n",
       "   embarked_C  embarked_Q  embarked_S  \n",
       "0           0           0           1  \n",
       "1           0           0           1  \n",
       "2           1           0           0  \n",
       "3           0           1           0  \n",
       "4           0           1           0  \n",
       "\n",
       "[5 rows x 24 columns]"
      ]
     },
     "execution_count": 185,
     "metadata": {},
     "output_type": "execute_result"
    }
   ],
   "source": [
    "# 판다스 패키지를 이용한 원-핫 인코당을 수행\n",
    "whole_df_encoded = pd.get_dummies(whole_df)\n",
    "df_train = whole_df_encoded[:train_idx_num]\n",
    "df_test = whole_df_encoded[train_idx_num:]\n",
    "df_train.head()"
   ]
  },
  {
   "cell_type": "code",
   "execution_count": 186,
   "metadata": {},
   "outputs": [
    {
     "name": "stdout",
     "output_type": "stream",
     "text": [
      "accuracy: 0.79\n",
      "Precision : 0.736\n",
      "Recall : 0.701\n",
      "F1 : 0.718\n",
      "AUC : 0.853\n"
     ]
    },
    {
     "data": {
      "text/plain": [
       "<matplotlib.legend.Legend at 0x22a41b422c8>"
      ]
     },
     "execution_count": 186,
     "metadata": {},
     "output_type": "execute_result"
    },
    {
     "data": {
      "image/png": "[encoded data removed]",
      "text/plain": [
       "<Figure size 360x288 with 1 Axes>"
      ]
     },
     "metadata": {
      "needs_background": "light"
     },
     "output_type": "display_data"
    }
   ],
   "source": [
    "# 데이터를 학습 데이터셋, 테스트 데이터셋으로 분리합니다.\n",
    "x_train, y_train = df_train.loc[:, df_train.columns != 'survived'].values, df_train['survived'].values\n",
    "x_test, y_test = df_test.loc[:, df_test.columns != 'survived'].values, df_test['survived'].values\n",
    "\n",
    "# 로지스틱 회귀 모델을 학습합니다.\n",
    "lr = LogisticRegression(random_state=0)\n",
    "lr.fit(x_train, y_train)\n",
    "\n",
    "# 학습한 모델의 테스트 데이터셋에 대한 예측 결과를 반환합니다.\n",
    "y_pred = lr.predict(x_test)\n",
    "y_pred_probability = lr.predict_proba(x_test)[:,1]\n",
    "\n",
    "# 테스트 데이터셋에 대한 accuracy, precision, recall, f1 평가 지표를 각각 출력합니다.\n",
    "print(\"accuracy: %.2f\" % accuracy_score(y_test, y_pred))\n",
    "print(\"Precision : %.3f\" % precision_score(y_test, y_pred))\n",
    "print(\"Recall : %.3f\" % recall_score(y_test, y_pred))\n",
    "print(\"F1 : %.3f\" % f1_score(y_test, y_pred)) # AUC (Area Under the Curve) & ROC curve\n",
    "\n",
    "# AUC (Area Under the Curve)를 계산하여 출력합니다.\n",
    "false_positive_rate, true_positive_rate, thresholds = roc_curve(y_test, y_pred_probability)\n",
    "roc_auc = roc_auc_score(y_test, y_pred_probability)\n",
    "print(\"AUC : %.3f\" % roc_auc)\n",
    "\n",
    "# ROC curve를 그래프로 출력합니다.\n",
    "plt.rcParams['figure.figsize'] = [5, 4]\n",
    "plt.plot(false_positive_rate, true_positive_rate, label='ROC curve (area = %0.3f)' % roc_auc, \n",
    "         color='red', linewidth=4.0)\n",
    "plt.plot([0, 1], [0, 1], 'k--')\n",
    "plt.xlim([0.0, 1.0])\n",
    "plt.ylim([0.0, 1.0])\n",
    "plt.xlabel('False Positive Rate')\n",
    "plt.ylabel('True Positive Rate')\n",
    "plt.title('ROC curve of Logistic regression')\n",
    "plt.legend(loc=\"lower right\")"
   ]
  },
  {
   "cell_type": "markdown",
   "metadata": {},
   "source": [
    "### < 피처 영향력 살펴보기>\n",
    "- 피치 엔지니어링 결과 : 'name', 'cabin'의 피처 영향력이 가장 크다"
   ]
  },
  {
   "cell_type": "code",
   "execution_count": 193,
   "metadata": {},
   "outputs": [
    {
     "data": {
      "image/png": "[encoded data removed]",
      "text/plain": [
       "<Figure size 720x576 with 1 Axes>"
      ]
     },
     "metadata": {
      "needs_background": "light"
     },
     "output_type": "display_data"
    }
   ],
   "source": [
    "# 예측 대상인 survived 피처를 제외한 모든 피처를 리스트로 반환 (그래프의 y축)\n",
    "cols=df_train.columns.tolist()\n",
    "cols.remove('survived')\n",
    "y_pos=np.arange(len(cols))\n",
    "\n",
    "\n",
    "# 각 피처별 회귀 분석 계수를 그래프의 x축으로하여 피처 영향력 그래프를 출력합니다.\n",
    "plt.rcParams['figure.figsize']=[10,8]\n",
    "fig,ax=plt.subplots()\n",
    "ax.barh(y_pos, lr.coef_[0], align='center', color='green', ecolor='black')\n",
    "ax.set_yticks(y_pos)\n",
    "ax.set_yticklabels(cols)\n",
    "ax.invert_yaxis()\n",
    "\n",
    "ax.set_xlabel('Coef')\n",
    "ax.set_title(\"Each Feature's Coef\")\n",
    "\n",
    "plt.show()"
   ]
  },
  {
   "cell_type": "markdown",
   "metadata": {},
   "source": [
    "## Step4. 평가 : 모델 검증하기"
   ]
  },
  {
   "cell_type": "markdown",
   "metadata": {},
   "source": [
    "- 완성된 모델 검증 : 모델 과적합 여부 검증\n",
    "  - 1. K-fold 교차 검증 : 학습용 데이터셋과 테스트용 데이터셋을 나눌때 불균등하게 나누어졌는지 검증\n",
    "  - 2. 학습 곡선 : 학습데이터와 테스트데이터가 벌어져있는지 확인"
   ]
  },
  {
   "cell_type": "markdown",
   "metadata": {},
   "source": [
    "### < K-fold 교차 검증 수행하기>\n",
    "- sklearn.model_selection의 KFold 클래스로 cv라는 객체 반환\n",
    "- 전체 데이터를 k개로 분리하여 학습과 평가를 반복\n",
    "- k개로 분할된 fold중 k-1개를 데이터셋 1개를 테스트 데이터셋으로 지정\n",
    "- 매 반복때마다 데이터셋은 변경됩니다."
   ]
  },
  {
   "cell_type": "code",
   "execution_count": 200,
   "metadata": {},
   "outputs": [
    {
     "data": {
      "text/plain": [
       "[<matplotlib.lines.Line2D at 0x22a478f9f48>]"
      ]
     },
     "execution_count": 200,
     "metadata": {},
     "output_type": "execute_result"
    },
    {
     "data": {
      "image/png": "[encoded data removed]",
      "text/plain": [
       "<Figure size 360x288 with 1 Axes>"
      ]
     },
     "metadata": {
      "needs_background": "light"
     },
     "output_type": "display_data"
    }
   ],
   "source": [
    "from sklearn.model_selection import KFold\n",
    "\n",
    "# K-fold 교차 검증의 k를 5로 선정합니다.\n",
    "k=5\n",
    "cv=KFold(k,shuffle=True, random_state=0)\n",
    "auc_history=[]\n",
    "\n",
    "# K-fold를 5번의 학습으로 반복\n",
    "for i, (train_data_row, test_data_row) in enumerate(cv.split(whole_df_encoded)):\n",
    "    # 5개로 분할된 fold중 4개를 데이터셋 1개를 테스트 데이터셋으로 지정\n",
    "    # 매 반복때마다 데이터셋은 변경됩니다.\n",
    "    df_train=whole_df_encoded.iloc[train_data_row]\n",
    "    df_test=whole_df_encoded.iloc[test_data_row]\n",
    "    \n",
    "    # survived 피처를 y, 나머지 피처들을 x 데이터로 지정\n",
    "    splited_x_train, splited_y_train = df_train.loc[:,df_train.columns!='survived'].values,df_train['survived'].values\n",
    "    splited_x_test, splited_y_test = df_test.loc[:,df_test.columns!='survived'].values,df_test['survived'].values\n",
    "    \n",
    "    # 주어진 데이터로 로지스틱 회귀 모델을 학습합니다.\n",
    "    lr=LogisticRegression(random_state=0)\n",
    "    lr.fit(splited_x_train, splited_y_train)\n",
    "    y_pred=lr.predict(splited_x_test)\n",
    "    y_pred_probability = lr.predict_proba(splited_x_test)[:,1]\n",
    "    \n",
    "    # 테스트 데이터셋의 AUC를 계산하여 auc_history에 저장\n",
    "    false_positive_rate, true_positive_rate, thresholds = roc_curve(splited_y_test, y_pred_probability)\n",
    "    roc_auc = roc_auc_score(splited_y_test, y_pred_probability)\n",
    "    auc_history.append(roc_auc)\n",
    "    \n",
    "# auc_history에 저장된 다섯 번의 학습 결과(AUC)를 그래프로 출력합니다.\n",
    "plt.rcParams['figure.figsize']=[5,4]\n",
    "plt.xlabel(\"Each K-fold\")\n",
    "plt.ylabel(\"AUC of splited test data\")\n",
    "plt.plot(range(1,k+1),auc_history) # baseline"
   ]
  },
  {
   "cell_type": "markdown",
   "metadata": {},
   "source": [
    "### < 학습 곡선 분석하기>"
   ]
  },
  {
   "cell_type": "code",
   "execution_count": 203,
   "metadata": {},
   "outputs": [],
   "source": [
    "import scikitplot as skplt"
   ]
  },
  {
   "cell_type": "code",
   "execution_count": 207,
   "metadata": {},
   "outputs": [
    {
     "data": {
      "image/png": "[encoded data removed]",
      "text/plain": [
       "<Figure size 360x288 with 1 Axes>"
      ]
     },
     "metadata": {
      "needs_background": "light"
     },
     "output_type": "display_data"
    }
   ],
   "source": [
    "skplt.estimators.plot_learning_curve(lr, x_train, y_train)\n",
    "plt.show()"
   ]
  },
  {
   "cell_type": "code",
   "execution_count": null,
   "metadata": {},
   "outputs": [],
   "source": []
  }
 ],
 "metadata": {
  "kernelspec": {
   "display_name": "Python 3",
   "language": "python",
   "name": "python3"
  },
  "language_info": {
   "codemirror_mode": {
    "name": "ipython",
    "version": 3
   },
   "file_extension": ".py",
   "mimetype": "text/x-python",
   "name": "python",
   "nbconvert_exporter": "python",
   "pygments_lexer": "ipython3",
   "version": "3.7.7"
  }
 },
 "nbformat": 4,
 "nbformat_minor": 4
}
